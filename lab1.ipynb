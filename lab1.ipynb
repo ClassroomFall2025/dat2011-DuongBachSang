{
 "cells": [
  {
   "cell_type": "markdown",
   "id": "fdeff819",
   "metadata": {},
   "source": [
    "# Sinh Viên thực hiện Lab 1 ở Đây"
   ]
  },
  {
   "cell_type": "markdown",
   "id": "acc5d7dc",
   "metadata": {},
   "source": [
    "## Lab 1 - Bài 1"
   ]
  },
  {
   "cell_type": "code",
   "execution_count": 5,
   "id": "001e0507",
   "metadata": {},
   "outputs": [
    {
     "name": "stdout",
     "output_type": "stream",
     "text": [
      "Xin Chào\n",
      "Tôi tên là Duong Bach Sang\n",
      "Tôi đến từ Cam Ranh\n"
     ]
    }
   ],
   "source": [
    "# Code lab 1 bài 1 ở đây\n",
    "print(\"Xin Chào\")\n",
    "print(\"Tôi tên là Duong Bach Sang\")\n",
    "print(\"Tôi đến từ Cam Ranh\")"
   ]
  },
  {
   "cell_type": "markdown",
   "id": "c0835310",
   "metadata": {},
   "source": [
    "## Lab 1 - Bài 2"
   ]
  },
  {
   "cell_type": "code",
   "execution_count": 4,
   "id": "fa9cb39f",
   "metadata": {},
   "outputs": [
    {
     "name": "stdout",
     "output_type": "stream",
     "text": [
      "Chu vi hình chữ nhật là: 10\n",
      "Diện tích hình chữ nhật là: 6\n"
     ]
    }
   ],
   "source": [
    "# Code lab 1  bài 2 ở đây\n",
    "chieu_dai = int(input(\"Nhập chiều dài: \"))\n",
    "chieu_rong = int(input(\"Nhập chiều rộng: \"))\n",
    "chu_vi = (chieu_dai + chieu_rong) * 2\n",
    "dien_tich = chieu_dai * chieu_rong\n",
    "print(\"Chu vi hình chữ nhật là:\", chu_vi)\n",
    "print(\"Diện tích hình chữ nhật là:\", dien_tich)\n"
   ]
  },
  {
   "cell_type": "markdown",
   "id": "0f2483fe",
   "metadata": {},
   "source": [
    "## Lab 1 - Bài 3"
   ]
  },
  {
   "cell_type": "code",
   "execution_count": 22,
   "id": "7034990b",
   "metadata": {},
   "outputs": [
    {
     "name": "stdout",
     "output_type": "stream",
     "text": [
      "\"...\n",
      "Sống không giận, không hờn không oán trách\n",
      "Sống mỉm cười, với thử thách chông gai\n",
      "Sống vươn lên, theo kip ánh ban mai\n",
      "Sống chan hòa, với những người chung sống.\n",
      "\n",
      "Sống là động, nhưng lòng luôn bất động\n",
      "Sống là thương, nhưng lòng chẳng vấn vương\n",
      "Sống yên vui, danh lợi mãi coi thường\n",
      "Tâm bất biến, giữa dòng đời vạn biến.\n",
      "...\"\n"
     ]
    }
   ],
   "source": [
    "# Code lab 1  bài 3 ở đây\n",
    "print(\"\\\"...\")\n",
    "name = \"Sống\"\n",
    "print(f\"{name} không giận, không hờn không oán trách\")\n",
    "print(f\"{name} mỉm cười, với thử thách chông gai\")\n",
    "print(f\"{name} vươn lên, theo kip ánh ban mai\")\n",
    "print(f\"{name} chan hòa, với những người chung sống.\")\n",
    "print()\n",
    "print(f\"{name} là động, nhưng lòng luôn bất động\")\n",
    "print(f\"{name} là thương, nhưng lòng chẳng vấn vương\")\n",
    "print(f\"{name} yên vui, danh lợi mãi coi thường\")\n",
    "print(\"Tâm bất biến, giữa dòng đời vạn biến.\")\n",
    "print(\"...\\\"\")"
   ]
  },
  {
   "cell_type": "markdown",
   "id": "d36ea3d3",
   "metadata": {},
   "source": [
    "## Lab 1 - Bài 4"
   ]
  },
  {
   "cell_type": "code",
   "execution_count": 1,
   "id": "4c707ec1",
   "metadata": {},
   "outputs": [
    {
     "name": "stdout",
     "output_type": "stream",
     "text": [
      "delta la: -151.0\n",
      "can delta la: 151.0\n"
     ]
    }
   ],
   "source": [
    "# code lab 1 bài 4 ở đây\n",
    "import math\n",
    "a = float(input(\"nhap he so a: \"))\n",
    "b = float(input(\"nhap he so b: \"))\n",
    "c = float(input(\"nhap he so c: \"))\n",
    "delta = b*b - 4*a*c\n",
    "print(\"delta la:\", delta)\n",
    "can_delta = math.sqrt(abs(delta))\n",
    "print(\"can delta la:\", abs(delta))\n",
    "\n",
    "\n",
    "\n",
    "\n"
   ]
  },
  {
   "cell_type": "markdown",
   "id": "e2b41d4a",
   "metadata": {},
   "source": [
    "## Lab 1 - Bài 5: bài tập làm thêm"
   ]
  },
  {
   "cell_type": "code",
   "execution_count": 3,
   "id": "0e0172f7",
   "metadata": {},
   "outputs": [
    {
     "name": "stdout",
     "output_type": "stream",
     "text": [
      "phép cộng là: 5.0\n",
      "phép trừ là:  -1.0\n",
      "phép nhân là: 6.0\n",
      "phép chia là: 0.6666666666666666\n",
      "--------------------------\n",
      "lũy thừa là: 15625.0\n",
      "--------------------------\n",
      "căn bậc hai là: 2.23606797749979\n",
      "--------------------------\n",
      "sin là: 0.9129452507276277\n",
      "cos là: 0.15425144988758405\n",
      "tan là: 0.6483608274590866\n",
      "--------------------------\n",
      "logarit là: 1.0\n",
      "--------------------------\n"
     ]
    }
   ],
   "source": [
    "# code lab 1  bài làm thêm ở đây \n",
    "#1. cộng, trừ, nhân, chia\n",
    "import math\n",
    "a = float(input(\"nhap he so a: \"))\n",
    "b = float(input(\"nhap he so b: \"))\n",
    "cộng = a + b\n",
    "trừ = a - b\n",
    "nhân = a * b\n",
    "chia = a / b\n",
    "print(\"phép cộng là:\", cộng)\n",
    "print(\"phép trừ là: \", trừ)\n",
    "print(\"phép nhân là:\", nhân)\n",
    "print(\"phép chia là:\", chia)\n",
    "print(\"--------------------------\")\n",
    "#2. tính lũy thừa\n",
    "import math\n",
    "x = float(input(\"nhap so x: \"))\n",
    "y = float(input(\"nhap so y: \"))\n",
    "luy_thua = x ** y\n",
    "print(\"lũy thừa là:\", luy_thua)\n",
    "print(\"--------------------------\")\n",
    "#3. tính căn bậc hai\n",
    "import math\n",
    "x = float(input(\"nhap so x: \"))\n",
    "can_bac_hai = math.sqrt(x)\n",
    "print(\"căn bậc hai là:\", can_bac_hai)\n",
    "print(\"--------------------------\")\n",
    "#4. tính sin, cos, tan\n",
    "import math\n",
    "sin = float(input(\"nhap so sin: \"))\n",
    "cos = float(input(\"nhap so cos: \")) \n",
    "tan = float(input(\"nhap so tan: \"))\n",
    "sin = math.sin(sin)\n",
    "cos = math.cos(cos)\n",
    "tan = math.tan(tan)\n",
    "print(\"sin là:\", sin)\n",
    "print(\"cos là:\", cos)\n",
    "print(\"tan là:\", tan)\n",
    "print(\"--------------------------\")\n",
    "#5. tính logarit\n",
    "import math\n",
    "x = float(input(\"nhap so x: \"))\n",
    "logarit = math.log10(x)\n",
    "print(\"logarit là:\", logarit)\n",
    "print(\"--------------------------\")\n"
   ]
  }
 ],
 "metadata": {
  "kernelspec": {
   "display_name": "Python 3",
   "language": "python",
   "name": "python3"
  },
  "language_info": {
   "codemirror_mode": {
    "name": "ipython",
    "version": 3
   },
   "file_extension": ".py",
   "mimetype": "text/x-python",
   "name": "python",
   "nbconvert_exporter": "python",
   "pygments_lexer": "ipython3",
   "version": "3.13.7"
  }
 },
 "nbformat": 4,
 "nbformat_minor": 5
}
