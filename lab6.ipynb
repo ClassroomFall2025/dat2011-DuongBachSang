{
 "cells": [
  {
   "cell_type": "markdown",
   "id": "fdeff819",
   "metadata": {},
   "source": [
    "# Sinh Viên thực hiện Lab 6 ở Đây"
   ]
  },
  {
   "cell_type": "markdown",
   "id": "acc5d7dc",
   "metadata": {},
   "source": [
    "## Lab 6 - Bài 1"
   ]
  },
  {
   "cell_type": "code",
   "execution_count": 2,
   "id": "001e0507",
   "metadata": {},
   "outputs": [
    {
     "name": "stdout",
     "output_type": "stream",
     "text": [
      "---thông tin hình chữ nhật----\n",
      "chiều dài hình chữ nhật: 3.0\n",
      "chiều rộng hình chữ nhật: 4.0\n",
      "chu vi hình chữ nhật: 14.0\n",
      "diện tích hình chữ nhật: 12.0\n",
      "---thông tin hình vuông----\n",
      "cạnh hình vuông là: 3.0\n",
      "chu vi hình vuông : 12.0\n",
      "diện tích hình vuông: 9.0\n"
     ]
    }
   ],
   "source": [
    "# Code lab 6 bài 1 ở đây\n",
    "from Hinh import ChuNhat, HinhVuong\n",
    "\n",
    "chieu_dai = float(input(\"nhập chiều dài là: \"))\n",
    "chieu_rong = float(input(\"nhập chiều rộng là: \"))\n",
    "\n",
    "canh = float(input(\"nhập cạnh hình vuông là: \"))\n",
    "\n",
    "cn = ChuNhat(chieu_dai, chieu_rong)\n",
    "hv = HinhVuong(canh)\n",
    "\n",
    "print(\"---thông tin hình chữ nhật----\")\n",
    "cn.xuat()\n",
    "print(\"---thông tin hình vuông----\")\n",
    "hv.xuat()"
   ]
  },
  {
   "cell_type": "markdown",
   "id": "c0835310",
   "metadata": {},
   "source": [
    "## Lab 6 - Bài 2"
   ]
  },
  {
   "cell_type": "code",
   "execution_count": null,
   "id": "fa9cb39f",
   "metadata": {},
   "outputs": [],
   "source": [
    "# Code lab 6  bài 2 ở đây"
   ]
  },
  {
   "cell_type": "markdown",
   "id": "0f2483fe",
   "metadata": {},
   "source": [
    "## Lab 6 - Bài 3"
   ]
  },
  {
   "cell_type": "code",
   "execution_count": null,
   "id": "7034990b",
   "metadata": {},
   "outputs": [],
   "source": [
    "# Code lab 6  bài 3 ở đây"
   ]
  },
  {
   "cell_type": "markdown",
   "id": "d36ea3d3",
   "metadata": {},
   "source": [
    "## Lab 6 - Bài 4"
   ]
  },
  {
   "cell_type": "code",
   "execution_count": 1,
   "id": "4c707ec1",
   "metadata": {},
   "outputs": [
    {
     "name": "stdout",
     "output_type": "stream",
     "text": [
      "-------+Menu+--------\n",
      "1 : Nhập danh sách sinh viên\n",
      "2 : xuất thông tin danh sách sinh viên\n",
      "3 : xuất danh sách sinh viên có học lực giỏi\n",
      "4 : sắp xếp danh sách sinh viên theo điểm\n",
      "5 : kết thúc\n",
      "i-----------------------\n",
      "lựa chọn chức năng chương trình\n",
      "Ngành không hợp lệ vui lòng nhập lại\n",
      "-------+Menu+--------\n",
      "1 : Nhập danh sách sinh viên\n",
      "2 : xuất thông tin danh sách sinh viên\n",
      "3 : xuất danh sách sinh viên có học lực giỏi\n",
      "4 : sắp xếp danh sách sinh viên theo điểm\n",
      "5 : kết thúc\n",
      "i-----------------------\n",
      "lựa chọn chức năng chương trình\n",
      "tên sinh viên, ngành, diem, học lực\n",
      "tên sinh viên: 8\n",
      "ngành học: it\n",
      "điểm trung bình: 7.75\n",
      "học lực: Khá\n",
      "tên sinh viên: meo\n",
      "ngành học: biz\n",
      "điểm trung bình: 6.333333333333333\n",
      "học lực: Trung bình\n",
      "tên sinh viên: meo\n",
      "ngành học: biz\n",
      "điểm trung bình: 6.333333333333333\n",
      "học lực: Trung bình\n",
      "-------+Menu+--------\n",
      "1 : Nhập danh sách sinh viên\n",
      "2 : xuất thông tin danh sách sinh viên\n",
      "3 : xuất danh sách sinh viên có học lực giỏi\n",
      "4 : sắp xếp danh sách sinh viên theo điểm\n",
      "5 : kết thúc\n",
      "i-----------------------\n",
      "lựa chọn chức năng chương trình\n",
      "==Danh sách sinh viên giỏi==\n",
      "---------------------------------\n",
      "-------+Menu+--------\n",
      "1 : Nhập danh sách sinh viên\n",
      "2 : xuất thông tin danh sách sinh viên\n",
      "3 : xuất danh sách sinh viên có học lực giỏi\n",
      "4 : sắp xếp danh sách sinh viên theo điểm\n",
      "5 : kết thúc\n",
      "i-----------------------\n",
      "lựa chọn chức năng chương trình\n",
      "==Sắp xếp sinh viên theo điểm==\n",
      "tên sinh viên: 8\n",
      "ngành học: it\n",
      "điểm trung bình: 7.75\n",
      "học lực: Khá\n",
      "tên sinh viên: meo\n",
      "ngành học: biz\n",
      "điểm trung bình: 6.333333333333333\n",
      "học lực: Trung bình\n",
      "tên sinh viên: meo\n",
      "ngành học: biz\n",
      "điểm trung bình: 6.333333333333333\n",
      "học lực: Trung bình\n",
      "-------+Menu+--------\n",
      "1 : Nhập danh sách sinh viên\n",
      "2 : xuất thông tin danh sách sinh viên\n",
      "3 : xuất danh sách sinh viên có học lực giỏi\n",
      "4 : sắp xếp danh sách sinh viên theo điểm\n",
      "5 : kết thúc\n",
      "i-----------------------\n",
      "lựa chọn chức năng chương trình\n",
      "kết thúc chương trình\n"
     ]
    }
   ],
   "source": [
    "# code lab 6 bài 4 ở đây\n",
    "from sinhvienpoly import *\n",
    "from quanlysinhvien import *\n",
    "ql = QuanLySinhVien()\n",
    "menu = {\n",
    "\"1\": \"Nhập danh sách sinh viên\",\n",
    "\"2\": \"xuất thông tin danh sách sinh viên\",\n",
    "\"3\": \"xuất danh sách sinh viên có học lực giỏi\",\n",
    "\"4\": \"sắp xếp danh sách sinh viên theo điểm\",\n",
    "\"5\": \"kết thúc\"\n",
    "}\n",
    "while True:\n",
    "    print(\"-------+Menu+--------\")\n",
    "    for k, v in menu.items():\n",
    "        print (f\"{k} : {v}\")\n",
    "    print(\"i-----------------------\")\n",
    "    print(\"lựa chọn chức năng chương trình\")\n",
    "    lua_chon = input(\"nhập chức năng chương trình\")\n",
    "    match lua_chon:\n",
    "        case \"5\":\n",
    "            print(\"kết thúc chương trình\")\n",
    "            break\n",
    "        case \"1\":\n",
    "            ql.nhap_dssv()\n",
    "        case \"2\":\n",
    "            ql.xuat_dssv()\n",
    "        case \"3\":\n",
    "            ql.xuat_dssv_gioi()\n",
    "        case \"4\":\n",
    "            ql.xuat_dssv_diem()\n",
    "        case _:\n",
    "            print(\"lựa chọn chưa đúng!\")\n",
    "    "
   ]
  },
  {
   "cell_type": "markdown",
   "id": "e2b41d4a",
   "metadata": {},
   "source": [
    "## Lab 6 - Bài 5: bài tập làm thêm"
   ]
  },
  {
   "cell_type": "code",
   "execution_count": null,
   "id": "0e0172f7",
   "metadata": {},
   "outputs": [],
   "source": [
    "# code lab 6  bài làm thêm ở đây "
   ]
  }
 ],
 "metadata": {
  "kernelspec": {
   "display_name": "Python 3",
   "language": "python",
   "name": "python3"
  },
  "language_info": {
   "codemirror_mode": {
    "name": "ipython",
    "version": 3
   },
   "file_extension": ".py",
   "mimetype": "text/x-python",
   "name": "python",
   "nbconvert_exporter": "python",
   "pygments_lexer": "ipython3",
   "version": "3.13.7"
  }
 },
 "nbformat": 4,
 "nbformat_minor": 5
}
