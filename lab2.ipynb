{
 "cells": [
  {
   "cell_type": "markdown",
   "id": "fdeff819",
   "metadata": {},
   "source": [
    "# Sinh Viên thực hiện Lab 2 ở Đây"
   ]
  },
  {
   "cell_type": "markdown",
   "id": "acc5d7dc",
   "metadata": {},
   "source": [
    "## Lab 2 - Bài 1"
   ]
  },
  {
   "cell_type": "code",
   "execution_count": null,
   "id": "001e0507",
   "metadata": {},
   "outputs": [
    {
     "name": "stdout",
     "output_type": "stream",
     "text": [
      "kiểm tra con người:  True\n",
      "Từ Tìm kiếm:  con người\n",
      "Kiếp CON NGƯỜI mỏng manh như là gió\n",
      "Sống trên đời có được mấy lần vui\n",
      "Sao phải đau mà không thể mỉm cười\n",
      "Gắng buông nỗi ngậm ngùi nơi quá khứ\n",
      "\n",
      "Nếu có thể sao ta không làm thử\n",
      "Để tâm hồn khắc hai chữ bình an\n",
      "Cho đôi chân bước thanh thản nhẹ nhàng\n",
      "Dù hướng đời có muôn ngàn đá sỏi\n",
      "\n"
     ]
    }
   ],
   "source": [
    "# Code lab 2 bài 1 ở đây\n",
    "baiTho = '''Kiếp con người mỏng manh như là gió\n",
    "Sống trên đời có được mấy lần vui\n",
    "Sao phải đau mà không thể mỉm cười\n",
    "Gắng buông nỗi ngậm ngùi nơi quá khứ\n",
    "\n",
    "Nếu có thể sao ta không làm thử\n",
    "Để tâm hồn khắc hai chữ bình an\n",
    "Cho đôi chân bước thanh thản nhẹ nhàng\n",
    "Dù hướng đời có muôn ngàn đá sỏi\n",
    "'''\n",
    "print(\"kiểm tra con người: \",\"con người\" in baiTho)\n",
    "tu_tìm_kiem = input(\"Nhập từ cần tìm: \")\n",
    "index1 = baiTho.find(tu_tìm_kiem)\n",
    "index2 = index1 + len(tu_tìm_kiem)\n",
    "tu_tìm_kiem = baiTho[index1:index2]\n",
    "print(\"Từ Tìm kiếm: \", tu_tìm_kiem)\n",
    "\n",
    "#Chuyển từ “con người” thành chữ hoa và xuất ra màn hình\n",
    "print(baiTho.replace(\"con người\",\"CON NGƯỜI\"))\n",
    "\n"
   ]
  },
  {
   "cell_type": "code",
   "execution_count": null,
   "id": "3d70f212",
   "metadata": {},
   "outputs": [
    {
     "name": "stdout",
     "output_type": "stream",
     "text": [
      "vay tu trich xuat:  python\n"
     ]
    }
   ],
   "source": [
    "text = \"Học lập trình python thú vị\"\n",
    "text1 = \"tôi muốn học\"\n",
    "text2 = text + \" \" + text1\n",
    "print(text2)\n",
    "#text [index1:index2]\n",
    "index1 = text.find(\"python\")\n",
    "index2 = index1 + len(\"python\")\n",
    "tu_trich_xuat = text[index1:index2]\n",
    "print (\"vay tu trich xuat: \",tu_trich_xuat)\n"
   ]
  },
  {
   "cell_type": "code",
   "execution_count": null,
   "id": "90519f26",
   "metadata": {},
   "outputs": [
    {
     "name": "stdout",
     "output_type": "stream",
     "text": [
      "Học lập trình python thú vị tôi muốn học\n"
     ]
    }
   ],
   "source": [
    "text = \"Học lập trình python thú vị\"\n",
    "text1 = \"tôi muốn học\"\n",
    "text2 = text + \" \" + text1\n",
    "print(text2)\n"
   ]
  },
  {
   "cell_type": "code",
   "execution_count": 4,
   "id": "83e1f80b",
   "metadata": {},
   "outputs": [
    {
     "name": "stdout",
     "output_type": "stream",
     "text": [
      "Học lập trình java thú vị\n"
     ]
    }
   ],
   "source": [
    "text = \"Học lập trình python thú vị\"\n",
    "text2 = text.replace(\"python\", \"java\")\n",
    "print(text2)"
   ]
  },
  {
   "cell_type": "markdown",
   "id": "c0835310",
   "metadata": {},
   "source": [
    "## Lab 2 - Bài 2"
   ]
  },
  {
   "cell_type": "code",
   "execution_count": null,
   "id": "fa9cb39f",
   "metadata": {},
   "outputs": [
    {
     "name": "stdout",
     "output_type": "stream",
     "text": [
      "\"\n",
      "Kiếp con người mỏng manh như là gió\n",
      "Sống trên đời có được mấy lần vui\n",
      "Sao phải đau mà không thể mỉm cười\n",
      "Gắng buông nỗi ngậm ngùi nơi quá khứ\n",
      "\n",
      "Nếu có thể sao ta không làm thử\n",
      "Để tâm hồn khắc hai chữ hạnh phúc\n",
      "Cho đôi chân bước thanh thản nhẹ nhàng\n",
      "Dù hướng đời có muôn ngàn đá sỏi\n",
      "\n",
      "\"\n"
     ]
    }
   ],
   "source": [
    "# Code lab 2  bài 2 ở đây\n",
    "bai_tho = '''Kiếp con người mỏng manh như là gió\n",
    "Sống trên đời có được mấy lần vui\n",
    "Sao phải đau mà không thể mỉm cười\n",
    "Gắng buông nỗi ngậm ngùi nơi quá khứ\n",
    "\n",
    "Nếu có thể sao ta không làm thử\n",
    "Để tâm hồn khắc hai chữ bình an\n",
    "Cho đôi chân bước thanh thản nhẹ nhàng\n",
    "Dù hướng đời có muôn ngàn đá sỏi\n",
    "'''\n",
    "print(\"\\\"\")\n",
    "#Thay thế từ “bình an” bằng từ “hạnh phúc”.\n",
    "print(bai_tho.replace(\"bình an\",\"hạnh phúc\"))\n",
    "print(\"\\\"\")\n",
    "\n",
    "\n",
    "\n",
    "\n"
   ]
  },
  {
   "cell_type": "markdown",
   "id": "0f2483fe",
   "metadata": {},
   "source": [
    "## Lab 2 - Bài 3"
   ]
  },
  {
   "cell_type": "code",
   "execution_count": null,
   "id": "7034990b",
   "metadata": {},
   "outputs": [],
   "source": [
    "# Code lab 2  bài 3 ở đây\n",
    "#Viết chương trình cho phép giải phương trình bậc nhất trong đó các hệ số a và b \n",
    "#nhập từ bàn phím.\n",
    "a = float(input(\"nhập số a là: \"))\n",
    "b = float(input(\"nhập số b là: \"))\n",
    "if a == 0:\n",
    "    if b == 0:\n",
    "        print(\"phương trình vô số nghiệm\")\n",
    "    else:\n",
    "        print(\"phương trình vô nghiệm\")\n",
    "else:\n",
    "    x = -b/a\n",
    "    print(\"Vậy nghiệm của phương trình là: x = \",x)"
   ]
  },
  {
   "cell_type": "markdown",
   "id": "d36ea3d3",
   "metadata": {},
   "source": [
    "## Lab 2 - Bài 4"
   ]
  },
  {
   "cell_type": "code",
   "execution_count": 11,
   "id": "4c707ec1",
   "metadata": {},
   "outputs": [
    {
     "name": "stdout",
     "output_type": "stream",
     "text": [
      "phương trình có hai nghiệm phân biệt x1= 1.0 và x2= -4.0\n"
     ]
    }
   ],
   "source": [
    "# code lab 2 bài 4 ở đây\n",
    "#Viết chương trình cho phép giải phương trình bậc hai trong đó các hệ số a, b và c \n",
    "#nhập từ bàn phím.\n",
    "import math\n",
    "a = float(input(\"nhập số a là: \"))\n",
    "b = float(input(\"nhập số b là: \"))\n",
    "c = float(input(\"nhập số c là: \"))\n",
    "if a == 0:\n",
    "    if b == 0:\n",
    "        if c == 0:\n",
    "            print(\"phương trình vô số nghiệm\")\n",
    "        else:\n",
    "            print(\"phương trình vô nghiệm\")\n",
    "    else:\n",
    "        x = -c/b\n",
    "        print(\"phương trình có một nghiệm x = \",x)\n",
    "    \n",
    "if a != 0:\n",
    "    delta = b**2 - 4*a*c\n",
    "    if delta < 0:\n",
    "        print(\"phương trình vô nghiệm\")\n",
    "    elif delta == 0:\n",
    "        x = -b/(2*a)\n",
    "        print(\"phương trình có nghiệm kép x1 = \",x)\n",
    "    elif delta > 0:\n",
    "        x1 = (-b + math.sqrt(delta)) / (2*a)\n",
    "        x2 = (-b - math.sqrt(delta)) / (2*a)\n",
    "        print(\"phương trình có hai nghiệm phân biệt x1=\",x1,\"và x2=\",x2)\n",
    "    \n",
    "\n",
    "\n",
    "\n"
   ]
  },
  {
   "cell_type": "markdown",
   "id": "e2b41d4a",
   "metadata": {},
   "source": [
    "## Lab 2 - Bài 5: bài tập làm thêm"
   ]
  },
  {
   "cell_type": "code",
   "execution_count": null,
   "id": "0e0172f7",
   "metadata": {},
   "outputs": [
    {
     "name": "stdout",
     "output_type": "stream",
     "text": [
      "kết quả là: 4.0 * 5.0 = 20.0 \n"
     ]
    }
   ],
   "source": [
    "# code lab 2  bài làm thêm ở đây \n",
    "number1 = float(input(\"nhập số thứ nhất: \"))\n",
    "number2 = float(input(\"nhập số thứ hai: \"))\n",
    "operator = input(\"nhập phép toán (+, -, *, /): \")\n",
    "if operator == \"+\":\n",
    "    result = number1 + number2\n",
    "    print(f\"kết quả là: {number1} + {number2} = {result} \")\n",
    "if operator == \"-\":\n",
    "    result = number1 - number2\n",
    "    print(f\"kết quả là: {number1} - {number2} = {result} \")\n",
    "if operator == \"*\":\n",
    "    result = number1 * number2\n",
    "    print(f\"kết quả là: {number1} * {number2} = {result} \")\n",
    "if operator == \"/\" and number2 != 0:\n",
    "    result = number1 / number2\n",
    "    print(f\"kết quả là: {number1} / {number2} = {result} \")\n"
   ]
  },
  {
   "cell_type": "code",
   "execution_count": null,
   "id": "1643a088",
   "metadata": {},
   "outputs": [],
   "source": [
    "import math\n",
    "a = float(input(\"nhập số a là: \"))\n",
    "b = float(input(\"nhập số b là: \"))\n",
    "c = float(input(\"nhập số c là: \"))\n",
    "delta = b**2 - 4*a*c\n",
    "if delta >= 0:\n",
    "    can_delta = math.sqrt(delta)\n",
    "    print(\"căn bậc hai của delta là: \",can_delta)\n",
    "else:\n",
    "    print(\"delta âm, không thể tính căn bậc hai\")"
   ]
  },
  {
   "cell_type": "code",
   "execution_count": null,
   "id": "81b8d3a3",
   "metadata": {},
   "outputs": [
    {
     "name": "stdout",
     "output_type": "stream",
     "text": [
      "Lỗi: Không thể chia cho 0\n"
     ]
    }
   ],
   "source": [
    "number1 = float(input(\"nhập số a là: \"))\n",
    "number2 = float(input(\"nhập số b là: \"))\n",
    "operator = input(\"nhập phép toán (+, -, *, /): \")\n",
    "if operator == \"+\":\n",
    "    result = number1 + number2\n",
    "    print(f\"kết quả là: {number1} + {number2} = {result} \")\n",
    "elif operator == \"-\":\n",
    "    result = number1 - number2\n",
    "    print(f\"kết quả là: {number1} - {number2} = {result} \")\n",
    "elif operator == \"*\":\n",
    "    result = number1 * number2\n",
    "    print(f\"kết quả là: {number1} * {number2} = {result} \")\n",
    "elif operator == \"/\":\n",
    "    if number2 != 0:\n",
    "        result = number1 / number2\n",
    "        print(f\"kết quả là: {number1} / {number2} = {result} \")\n",
    "    else:\n",
    "        print(\"Lỗi: Không thể chia cho 0\")\n",
    "\n",
    "\n",
    "\n",
    "    "
   ]
  },
  {
   "cell_type": "code",
   "execution_count": 9,
   "id": "7b4a029c",
   "metadata": {},
   "outputs": [
    {
     "name": "stdout",
     "output_type": "stream",
     "text": [
      "Vậy nghiệm của phương trình là: x =  -1.3333333333333333\n"
     ]
    }
   ],
   "source": [
    "#giai phuong trinh bac nhất ax + b = 0\n",
    "a = float(input(\"nhập số a là: \"))\n",
    "b = float(input(\"nhập số b là: \"))\n",
    "if a == 0:\n",
    "    if b == 0:\n",
    "        print(\"phương trình vô số nghiệm\")\n",
    "    else:\n",
    "        print(\"phương trình vô nghiệm\")\n",
    "if a != 0:\n",
    "    x = -b/a\n",
    "    print(\"Vậy nghiệm của phương trình là: x = \",x)\n",
    "    \n",
    "    "
   ]
  },
  {
   "cell_type": "code",
   "execution_count": null,
   "id": "b9e3fb5a",
   "metadata": {},
   "outputs": [
    {
     "name": "stdout",
     "output_type": "stream",
     "text": [
      "số lớn nhất là:  5.0\n"
     ]
    }
   ],
   "source": [
    "#tìm 2 số lớn nhất trong 2 số\n",
    "a = float(input(\"nhập số a là: \"))\n",
    "b = float(input(\"nhập số b là: \")) \n",
    "if a > b:\n",
    "    print(\"số lớn nhất là: \",a)\n",
    "else:\n",
    "    print(\"số lớn nhất là: \",b)\n",
    "\n",
    "\n"
   ]
  },
  {
   "cell_type": "code",
   "execution_count": null,
   "id": "1a8d9fce",
   "metadata": {},
   "outputs": [
    {
     "name": "stdout",
     "output_type": "stream",
     "text": [
      "số lớn nhất là:  5.0\n"
     ]
    }
   ],
   "source": [
    "#toán tử 3 ngôi\n",
    "a = float(input(\"nhập số a là: \"))\n",
    "b = float(input(\"nhập số b là: \"))\n",
    "max_number = a if a > b else b\n",
    "print(\"số lớn nhất là: \",max_number)\n"
   ]
  },
  {
   "cell_type": "code",
   "execution_count": null,
   "id": "bf003133",
   "metadata": {},
   "outputs": [
    {
     "name": "stdout",
     "output_type": "stream",
     "text": [
      "số lớn nhất là:  5.0\n"
     ]
    }
   ],
   "source": [
    "#tim 3 số lớn nhất trong 3 số dùng biểu thức điều kiện\n",
    "a = float(input(\"nhập số a là: \"))\n",
    "b = float(input(\"nhập số b là: \"))\n",
    "c = float(input(\"nhập số c là: \"))\n",
    "if a >= b and a >= c:\n",
    "    max_number = a\n",
    "elif b >= a and b >= c:\n",
    "    max_number = b\n",
    "else:\n",
    "    max_number = c\n",
    "print(\"số lớn nhất trong 3 số là: \",max_number)\n"
   ]
  }
 ],
 "metadata": {
  "kernelspec": {
   "display_name": "Python 3",
   "language": "python",
   "name": "python3"
  },
  "language_info": {
   "codemirror_mode": {
    "name": "ipython",
    "version": 3
   },
   "file_extension": ".py",
   "mimetype": "text/x-python",
   "name": "python",
   "nbconvert_exporter": "python",
   "pygments_lexer": "ipython3",
   "version": "3.13.7"
  }
 },
 "nbformat": 4,
 "nbformat_minor": 5
}
