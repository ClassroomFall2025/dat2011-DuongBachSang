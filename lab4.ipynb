{
 "cells": [
  {
   "cell_type": "markdown",
   "id": "fdeff819",
   "metadata": {},
   "source": [
    "# Sinh Viên thực hiện Lab 4 ở Đây"
   ]
  },
  {
   "cell_type": "markdown",
   "id": "acc5d7dc",
   "metadata": {},
   "source": [
    "## Lab 1 - Bài 1"
   ]
  },
  {
   "cell_type": "code",
   "execution_count": null,
   "id": "001e0507",
   "metadata": {},
   "outputs": [],
   "source": [
    "# Code lab 4 bài 1 ở đây\n",
    "# def tinh_tien_nuoc (so_nuoc):\n",
    "#     gia_ban_nuoc=  (7500, 8800, 12000, 24000) \n",
    "#     if so_nuoc <= 10:\n",
    "#         tien_nuoc_thang = so_nuoc * gia_ban_nuoc[0]\n",
    "#     elif so_nuoc <= 20:\n",
    "#         tien_nuoc_thang = 10 * gia_ban_nuoc[0] * (so_nuoc - 10) * gia_ban_nuoc[1]\n",
    "#     elif so_nuoc <= 30:\n",
    "#         tien_nuoc_thang = 10 * gia_ban_nuoc[0] * 10 * gia_ban_nuoc[1] + (so_nuoc - 20) * gia_ban_nuoc[2]\n",
    "#     else:\n",
    "#         tien_nuoc_thang = 10 * gia_ban_nuoc[0] * 10 * gia_ban_nuoc[1] + 10 * gia_ban_nuoc[2] + (so_nuoc - 30) * gia_ban_nuoc[3]\n",
    "#     return tien_nuoc_thang\n",
    "\n",
    "\n"
   ]
  },
  {
   "cell_type": "markdown",
   "id": "c0835310",
   "metadata": {},
   "source": [
    "## Lab 4 - Bài 2"
   ]
  },
  {
   "cell_type": "code",
   "execution_count": null,
   "id": "fa9cb39f",
   "metadata": {},
   "outputs": [],
   "source": [
    "# Code lab 4  bài 2 ở đây\n",
    "# def tinh_nguyen_lieu(sl_bdx, sl_btc, sl_bd):\n",
    "#     banh_dau_xanh = {\"đường\" : 0.04 , \"đậu\" : 0.07}\n",
    "#     banh_thap_cam = {\"đường\" : 0.06 , \"đậu\" : 0}\n",
    "#     banh_deo = {\"đường\" : 0.05 , \"đậu\" : 0.02}\n",
    "#     nguyen_lieu = {}\n",
    "#     duong_hop_banh = sl_bdx * banh_dau_xanh[\"đường\"] + sl_btc * banh_thap_cam[\"đường\"] + sl_bd * banh_deo[\"đường\"]\n",
    "#     dau_hop_banh = sl_bdx * banh_dau_xanh[\"đậu\"] + sl_btc * banh_thap_cam[\"đậu\"] + sl_bd * banh_deo[\"đậu\"]\n",
    "#     nguyen_lieu [\"đường\"] = duong_hop_banh\n",
    "#     nguyen_lieu [\"đậu\"] = dau_hop_banh\n",
    "#     return nguyen_lieu"
   ]
  },
  {
   "cell_type": "markdown",
   "id": "0f2483fe",
   "metadata": {},
   "source": [
    "## Lab 4 - Bài 3"
   ]
  },
  {
   "cell_type": "code",
   "execution_count": 10,
   "id": "7034990b",
   "metadata": {},
   "outputs": [
    {
     "name": "stdout",
     "output_type": "stream",
     "text": [
      "thoát chương trình\n",
      "danh sach vừa nhập là:  [6, 8, 9]\n",
      "danh sách các số chẵn là:  [6, 8]\n"
     ]
    }
   ],
   "source": [
    "# Code lab 4  bài 3 ở đây\n",
    "my_list = []\n",
    "while True:\n",
    "    so = input(\"nhập số nguyên: \")\n",
    "    if so.lower() == 's':    \n",
    "        print(\"thoát chương trình\")\n",
    "        break\n",
    "    try:\n",
    "        so_nguyen = int(so)\n",
    "        my_list.append(so_nguyen)\n",
    "\n",
    "    except ValueError:\n",
    "        print(\"Lỗi: vui lòng nhập số nguyên dương hoặc 's' để thoát\")\n",
    "        continue\n",
    "print(\"danh sach vừa nhập là: \", my_list)\n",
    "new_list = list(filter(lambda x: (x % 2 == 0), my_list))\n",
    "print(\"danh sách các số chẵn là: \", new_list)\n",
    "\n"
   ]
  },
  {
   "cell_type": "markdown",
   "id": "d36ea3d3",
   "metadata": {},
   "source": [
    "## Lab 4 - Bài 4"
   ]
  },
  {
   "cell_type": "code",
   "execution_count": 7,
   "id": "4c707ec1",
   "metadata": {},
   "outputs": [
    {
     "name": "stdout",
     "output_type": "stream",
     "text": [
      "-----------------------\n",
      "1 : Tính tiền nước sinh hoạt\n",
      "2 : Tính nguyên liệu làm bánh\n",
      "3 : Kết Thúc\n",
      "chọn chức năng chương trình\n",
      "nguyên liệu làm bánh {'đường': 0.46, 'đậu': 0.22000000000000003}\n",
      "-----------------------\n",
      "1 : Tính tiền nước sinh hoạt\n",
      "2 : Tính nguyên liệu làm bánh\n",
      "3 : Kết Thúc\n",
      "chọn chức năng chương trình\n",
      "-----------------------\n",
      "1 : Tính tiền nước sinh hoạt\n",
      "2 : Tính nguyên liệu làm bánh\n",
      "3 : Kết Thúc\n",
      "chọn chức năng chương trình\n",
      "kết thúc chương trình\n"
     ]
    }
   ],
   "source": [
    "# code lab 4 bài 4 ở đây\n",
    "import lab4\n",
    "Menu = {\n",
    "        \"1\": \"Tính tiền nước sinh hoạt\",\n",
    "        \"2\": \"Tính nguyên liệu làm bánh\",\n",
    "        \"3\": \"Kết Thúc\"\n",
    "}\n",
    "while True: \n",
    "    print(\"-----------------------\")\n",
    "    for k ,v in Menu.items():\n",
    "        print(f\"{k} : {v}\")\n",
    "    print(\"chọn chức năng chương trình\")\n",
    "    lua_Chon = input(\"Bạn chọn chức năng :\")\n",
    "    if lua_Chon == \"3\":\n",
    "        print(\"kết thúc chương trình\")\n",
    "        break\n",
    "    elif lua_Chon == \"1\":\n",
    "        so_nuoc = float(input(\"nhập số nước: \"))\n",
    "        print(\"số tiền thanh toán cho tiền nước là:\" ,lab4.tinh_tien_nuoc(so_nuoc))\n",
    "    elif lua_Chon == \"2\":\n",
    "        sl_bdx = float(input(\"nhập số lượng bánh đậu xanh: \"))\n",
    "        sl_btc = float(input(\"nhập số lượng bánh thập cẩm: \"))\n",
    "        sl_bd = float(input(\"nhập số lượng bánh dẻo: \"))\n",
    "        print(\"nguyên liệu làm bánh\",lab4.tinh_nguyen_lieu(sl_bdx, sl_btc, sl_bd))\n",
    "\n",
    "\n"
   ]
  },
  {
   "cell_type": "markdown",
   "id": "e2b41d4a",
   "metadata": {},
   "source": [
    "## Lab 4 - Bài 5: bài tập làm thêm"
   ]
  },
  {
   "cell_type": "code",
   "execution_count": null,
   "id": "0e0172f7",
   "metadata": {},
   "outputs": [],
   "source": [
    "# code lab 4  bài làm thêm ở đây "
   ]
  }
 ],
 "metadata": {
  "kernelspec": {
   "display_name": "Python 3",
   "language": "python",
   "name": "python3"
  },
  "language_info": {
   "codemirror_mode": {
    "name": "ipython",
    "version": 3
   },
   "file_extension": ".py",
   "mimetype": "text/x-python",
   "name": "python",
   "nbconvert_exporter": "python",
   "pygments_lexer": "ipython3",
   "version": "3.13.7"
  }
 },
 "nbformat": 4,
 "nbformat_minor": 5
}
