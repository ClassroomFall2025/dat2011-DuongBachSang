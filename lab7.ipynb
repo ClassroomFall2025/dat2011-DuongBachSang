{
 "cells": [
  {
   "cell_type": "code",
   "execution_count": null,
   "id": "001e0507",
   "metadata": {},
   "outputs": [
    {
     "name": "stdout",
     "output_type": "stream",
     "text": [
      "Tự nguyện\n",
      "Trương Quốc Khánh\n",
      "Nếu là chim, tôi sẽ là loài bồ câu trắng\n",
      "Nếu là hoa, tôi sẽ là một đóa hướng dương\n",
      "Nếu là mây, tôi sẽ là một vầng mây ấm\n",
      "Là người, tôi sẽ chết cho quê hương.\n",
      "\n",
      "Là chim, tôi sẽ cất cao đôi cánh mềm\n",
      "Từ nam ra ngoài bắc báo tin nối liền\n",
      "Là hoa, tôi nở tình yêu ban sớm\n",
      "Cùng muôn trái tim ngất ngây hoà bình.\n",
      "\n",
      "Là mây, theo làn gió tung bay khắp trời\n",
      "Nghìn xưa oai hùng đó tôi xin tiếp lời\n",
      "Là người, xin một lần khi nằm xuống\n",
      "Nhìn anh em đứng lên phất cao ngọn cờ.\n",
      "------------------\n",
      "Tự nguyện\n",
      "------------------\n",
      "Trương Quốc Khánh\n",
      "\n"
     ]
    }
   ],
   "source": [
    "# code lab 7 bài 4 ở đây\n",
    "from xml.sax.saxutils import escape\n",
    "\n",
    "# Read the text file: first line = title, second line = author, rest = lyrics\n",
    "with open(\"Resource.txt\", \"r\", encoding=\"utf-8\") as f:\n",
    "    lines = [line.rstrip('\n",
    "\n",
    "if len(lines) >= 2:\n",
    "    title = lines[0].strip()\n",
    "    author = lines[1].strip()\n",
    "    # join remaining lines into lyrics (preserve blank lines between stanzas)\n",
    "    lyrics = '\n",
    "else:\n",
    "    title = ''\n",
    "    author = ''\n",
    "    lyrics = ''\n",
    "\n",
    "\n",
    "\n",
    "\n",
    "\n",
    "\n",
    "\n",
    "\n",
    "\n",
    "\n",
    "\n",
    "\n",
    "\n",
    "\n",
    "\n",
    "\n",
    "\n",
    "\n",
    "\n",
    "\n",
    "\n",
    "\n",
    "\n",
    "\n",
    "\n",
    "\n",
    "\n",
    "\n",
    "\n",
    "\n",
    "\n",
    "print(noi_dung[1])noi_dung = file.readlines()file = open(\"Resource.txt\", \"r\", encoding=\"utf-8\")print(\"------------------\")# ý bafile.close()print(dong)dong = file.read(9)file = open(\"Resource.txt\", \"r\", encoding=\"utf-8\")print(\"------------------\")# ý haiprint(noidung)noidung = file.read()file = open(\"Resource.txt\", \"r\", encoding=\"utf-8\")# Code lab 7 bài 1 ở đâyprint(\"Wrote Resource.xml\")    file.write('</songs>\\n')    file.write('  </song>\\n')    file.write(']]></lyrics>\\n')    file.write(lyrics)    file.write('    <lyrics><![CDATA[')    file.write(f'    <author>{escape(author)}</author>\\n')    file.write(f'    <name>{escape(title)}</name>\\n')    file.write('  <song>\\n')    file.write('<songs>\\n')    file.write('<?xml version=\"1.0\" encoding=\"UTF-8\"?>\\n')with open(\"Resource.xml\", \"w\", encoding=\"utf-8\") as file:# Write XML. Use CDATA for lyrics to preserve newlines and special charactersnoi_dung = file.readlines()\n",
    "print(noi_dung[1])"
   ]
  },
  {
   "cell_type": "markdown",
   "id": "c0835310",
   "metadata": {},
   "source": [
    "## Lab 7 - Bài 2"
   ]
  },
  {
   "cell_type": "code",
   "execution_count": null,
   "id": "fa9cb39f",
   "metadata": {},
   "outputs": [
    {
     "name": "stdout",
     "output_type": "stream",
     "text": [
      "Đã ghi nội dung thành công\n"
     ]
    }
   ],
   "source": [
    "# Code lab 7  bài 2 ở đây\n",
    "noi_dung = \"\"\"…\n",
    "Nếu một mai tôi có bay lên trời \n",
    "Thì người ơi tôi đã sống rất thảnh thơi \n",
    "Nếu một mai tôi có đi qua đời \n",
    "Thì người ơi tôi đã sống rất tuyệt vời \n",
    "…\"\"\"\n",
    "with open(\" Lab7-Exercise2.txt\", \"w\", encoding=\"utf-8\") as f:\n",
    "    f.write(noi_dung)\n",
    "    print(\"Đã ghi nội dung thành công\")\n"
   ]
  },
  {
   "cell_type": "markdown",
   "id": "0f2483fe",
   "metadata": {},
   "source": [
    "## Lab 7 - Bài 3"
   ]
  },
  {
   "cell_type": "code",
   "execution_count": 1,
   "id": "7034990b",
   "metadata": {},
   "outputs": [
    {
     "name": "stdout",
     "output_type": "stream",
     "text": [
      "---nhập thông tin bài thơ-----\n",
      "------bài thơ thứ 1------\n",
      "------bài thơ thứ 2------\n",
      "------bài thơ thứ 3------\n",
      "------bài thơ thứ 4------\n",
      "------bài thơ thứ 5------\n",
      " Đã lưu danh sách sinh viên vào file CSV thành công!\n"
     ]
    }
   ],
   "source": [
    "# Code lab 7  bài 3 ở đây\n",
    "import csv\n",
    "ds_bai_tho = []\n",
    "print (\"---nhập thông tin bài thơ-----\")\n",
    "for i in range(5):\n",
    "    print (f\"------bài thơ thứ {i+1}------\")\n",
    "    tieu_de = input(\"Nhập tiêu đề bài thơ: \")\n",
    "    tac_gia = input(\"Nhập tên tác giả: \")\n",
    "    nam_sang_tac = input(\"Nhập năm sáng tác: \")\n",
    "    bai_tho = {\n",
    "        \"Tiêu đề\": tieu_de,\n",
    "        \"Tác giả\": tac_gia,\n",
    "        \"Năm sáng tác\": nam_sang_tac\n",
    "    }\n",
    "    ds_bai_tho.append(bai_tho)\n",
    "    ten_file = \"danh_sach_bai_tho.csv\"\n",
    "    # Sau khi nhập xong mới ghi ra file\n",
    "with open(\"danh_sach_bai_tho.csv\", \"w\", encoding=\"utf-8\", newline=\"\") as f:\n",
    "    writer = csv.DictWriter(f, fieldnames=[\"Tiêu đề\", \"Tác giả\", \"Năm sáng tác\"])\n",
    "    writer.writeheader()\n",
    "    writer.writerows(ds_bai_tho)\n",
    "print(\" Đã lưu danh sách sinh viên vào file CSV thành công!\")\n",
    "\n",
    "\n",
    "\n"
   ]
  },
  {
   "cell_type": "markdown",
   "id": "d36ea3d3",
   "metadata": {},
   "source": [
    "## Lab 7 - Bài 4"
   ]
  },
  {
   "cell_type": "code",
   "execution_count": 2,
   "id": "4c707ec1",
   "metadata": {},
   "outputs": [
    {
     "name": "stdout",
     "output_type": "stream",
     "text": [
      "['Tự nguyện', 'Trương Quốc Khánh', 'Nếu là chim, tôi sẽ là loài bồ câu trắng', 'Nếu là hoa, tôi sẽ là một đóa hướng dương', 'Nếu là mây, tôi sẽ là một vầng mây ấm', 'Là người, tôi sẽ chết cho quê hương.', '', 'Là chim, tôi sẽ cất cao đôi cánh mềm', 'Từ nam ra ngoài bắc báo tin nối liền', 'Là hoa, tôi nở tình yêu ban sớm', 'Cùng muôn trái tim ngất ngây hoà bình.', '', 'Là mây, theo làn gió tung bay khắp trời', 'Nghìn xưa oai hùng đó tôi xin tiếp lời', 'Là người, xin một lần khi nằm xuống', 'Nhìn anh em đứng lên phất cao ngọn cờ.']\n",
      "[['Nếu là chim, tôi sẽ là loài bồ câu trắng', 'Nếu là hoa, tôi sẽ là một đóa hướng dương', 'Nếu là mây, tôi sẽ là một vầng mây ấm', 'Là người, tôi sẽ chết cho quê hương.'], ['Là chim, tôi sẽ cất cao đôi cánh mềm', 'Từ nam ra ngoài bắc báo tin nối liền', 'Là hoa, tôi nở tình yêu ban sớm', 'Cùng muôn trái tim ngất ngây hoà bình.'], ['Là mây, theo làn gió tung bay khắp trời', 'Nghìn xưa oai hùng đó tôi xin tiếp lời', 'Là người, xin một lần khi nằm xuống', 'Nhìn anh em đứng lên phất cao ngọn cờ.']]\n"
     ]
    }
   ],
   "source": [
    "# code lab 7 bài 4 ở đây\n",
    "with open(\"Resource.txt\", \"r\", encoding=\"utf-8\") as f:\n",
    "    noi_dung =[dong.strip() for dong in f.readlines()]\n",
    "    print(noi_dung)\n",
    "    name = noi_dung[0]\n",
    "    author = noi_dung[1]\n",
    "    noi_dung_moi = []\n",
    "    kho_tho = []\n",
    "    for dong in noi_dung[2:]:\n",
    "        if dong == \"\":\n",
    "            noi_dung_moi.append(kho_tho)\n",
    "            kho_tho =[]\n",
    "        else:\n",
    "            kho_tho.append(dong)\n",
    "    noi_dung_moi.append(kho_tho)\n",
    "print(noi_dung_moi)\n",
    "with open(\"Resource.xml\", \"w\", encoding=\"utf-8\") as file:\n",
    "    file.write(\"<songs>\\n\")\n",
    "    file.write(\"\\t<song>\")\n",
    "\n",
    "    file.write(f\"\\t\\t\\n<name>{noi_dung[0]}</name>\")\n",
    "    file.write(f\"\\t\\t\\n<author>{noi_dung[1]}</author>\")\n",
    "    for phan_tu in noi_dung_moi:\n",
    "        file.write(f\"\\t\\t<section>\")\n",
    "        file.write(f\"\\t\\t{phan_tu}\")\n",
    "        file.write(f\"\\t\\t</section>\\n\")\n",
    "        \n",
    "    file.write(\"\\t</song>\\n\")\n",
    "    file.write(\"</songs>\")\n"
   ]
  },
  {
   "cell_type": "markdown",
   "id": "e2b41d4a",
   "metadata": {},
   "source": [
    "## Lab 7 - Bài 5: bài tập làm thêm"
   ]
  },
  {
   "cell_type": "code",
   "execution_count": null,
   "id": "0e0172f7",
   "metadata": {},
   "outputs": [],
   "source": [
    "# code lab 7  bài làm thêm ở đây "
   ]
  }
 ],
 "metadata": {
  "kernelspec": {
   "display_name": "Python 3",
   "language": "python",
   "name": "python3"
  },
  "language_info": {
   "codemirror_mode": {
    "name": "ipython",
    "version": 3
   },
   "file_extension": ".py",
   "mimetype": "text/x-python",
   "name": "python",
   "nbconvert_exporter": "python",
   "pygments_lexer": "ipython3",
   "version": "3.13.7"
  }
 },
 "nbformat": 4,
 "nbformat_minor": 5
}
