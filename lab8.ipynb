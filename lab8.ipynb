{
 "cells": [
  {
   "cell_type": "markdown",
   "id": "fdeff819",
   "metadata": {},
   "source": [
    "# Sinh Viên thực hiện Lab 8 ở Đây"
   ]
  },
  {
   "cell_type": "markdown",
   "id": "acc5d7dc",
   "metadata": {},
   "source": [
    "## Lab 8 - Bài 1"
   ]
  },
  {
   "cell_type": "code",
   "execution_count": 2,
   "id": "001e0507",
   "metadata": {},
   "outputs": [
    {
     "name": "stdout",
     "output_type": "stream",
     "text": [
      "Họ: DƯƠNG\n",
      "Tên đệm: BÁCH\n",
      "Tên: SANG\n"
     ]
    }
   ],
   "source": [
    "# Code lab 8 bài 1 ở đây\n",
    "ho_ten = input(\"Nhập họ tên: \").strip()\n",
    "ds_tu = ho_ten.split()\n",
    "\n",
    "ho = ds_tu[0]\n",
    "ten = ds_tu[-1]\n",
    "ten_dem = ' '.join(ds_tu[1:-1])\n",
    "\n",
    "print(\"Họ:\", ho.upper())\n",
    "print(\"Tên đệm:\", ten_dem.upper())\n",
    "print(\"Tên:\", ten.upper())\n",
    "\n",
    "\n",
    "\n",
    "\n",
    "\n"
   ]
  },
  {
   "cell_type": "markdown",
   "id": "c0835310",
   "metadata": {},
   "source": [
    "## Lab 8 - Bài 2"
   ]
  },
  {
   "cell_type": "code",
   "execution_count": 1,
   "id": "fa9cb39f",
   "metadata": {},
   "outputs": [
    {
     "name": "stdout",
     "output_type": "stream",
     "text": [
      "---thông tin sinh viên-----\n",
      "hoten: dương bách sang\n",
      "email: duongsang.28102006@gmail.com\n",
      "sdt: 0356316746\n",
      "cmnd: 056206009253\n"
     ]
    }
   ],
   "source": [
    "# Code lab 8  bài 2 ở đây\n",
    "import re\n",
    "sinh_vien = {}\n",
    "sinh_vien [\"hoten\"] = input(\"Nhập họ tên sinh viên: \").strip()\n",
    "while True:\n",
    "    email = input(\"Nhập email sinh viên: \").strip()\n",
    "    if re.match(r'^[a-zA-Z0-9._%+-]+@[a-zA-Z0-9.-]+\\.[a-zA-Z]{2,}$', email):\n",
    "        sinh_vien[\"email\"] = email\n",
    "        break\n",
    "    else:\n",
    "        print(\"Email không hợp lệ. Vui lòng nhập lại.\")\n",
    "while True:\n",
    "    sdt = input(\"Nhập số điện thoại sinh viên: \").strip()\n",
    "    if re.match(r\"^0\\d{9}$\", sdt):\n",
    "        sinh_vien[\"sdt\"] = sdt\n",
    "        break   \n",
    "    else:\n",
    "        print(\"Số điện thoại không hợp lệ. Vui lòng nhập lại.\")\n",
    "\n",
    "while True:\n",
    "    cmnd = input(\"Nhập số CMND sinh viên: \").strip()\n",
    "    if re.match(r\"^\\d{12}$\", cmnd):\n",
    "        sinh_vien[\"cmnd\"] = cmnd\n",
    "        break\n",
    "    else:\n",
    "        print(\"Số CMND không hợp lệ. Vui lòng nhập lại.\")\n",
    "\n",
    "print(\"---thông tin sinh viên-----\")\n",
    "for key, value in sinh_vien.items():\n",
    "    print(f\"{key}: {value}\")\n"
   ]
  },
  {
   "cell_type": "markdown",
   "id": "0f2483fe",
   "metadata": {},
   "source": [
    "## Lab 8 - Bài 3"
   ]
  },
  {
   "cell_type": "code",
   "execution_count": 1,
   "id": "7034990b",
   "metadata": {},
   "outputs": [
    {
     "name": "stdout",
     "output_type": "stream",
     "text": [
      "đã tạo file thành công\n"
     ]
    }
   ],
   "source": [
    "# Code lab 8  bài 3 ở đây\n",
    "#Viết chương trình để tạo ra 1 triệu số nguyên ngẫu nhiên có giá trị trong khoảng từ 0 đến 100. Ghi kết quả ra file.\n",
    "import random\n",
    "with open(\"random_numbers.txt\", \"w\") as file:\n",
    "    for _ in range(1000000):\n",
    "        number = random.randint(0, 100)\n",
    "        file.write(str(number)+ \" \")\n",
    "\n",
    "    print(\"đã tạo file thành công\")\n"
   ]
  },
  {
   "cell_type": "markdown",
   "id": "d36ea3d3",
   "metadata": {},
   "source": [
    "## Lab 8 - Bài 4"
   ]
  },
  {
   "cell_type": "code",
   "execution_count": 3,
   "id": "4c707ec1",
   "metadata": {},
   "outputs": [
    {
     "name": "stdout",
     "output_type": "stream",
     "text": [
      "Giá trị trung bình: 50.02\n",
      "Giá trị trung vị: 50.00\n",
      "Độ lệch chuẩn: 29.17\n"
     ]
    }
   ],
   "source": [
    "# code lab 8 bài 4 ở đây\n",
    "import statistics\n",
    "with open(\"random_numbers.txt\", \"r\") as file:\n",
    "    data = file.read().strip()\n",
    "    numbers = list(map(int, data.split()))\n",
    "    mean = statistics.mean(numbers)\n",
    "    median = statistics.median(numbers)\n",
    "    stdev = statistics.stdev(numbers)\n",
    "    print(f\"Giá trị trung bình: {mean:.2f}\")\n",
    "    print(f\"Giá trị trung vị: {median:.2f}\")\n",
    "    print(f\"Độ lệch chuẩn: {stdev:.2f}\")"
   ]
  },
  {
   "cell_type": "markdown",
   "id": "e2b41d4a",
   "metadata": {},
   "source": [
    "## Lab 8 - Bài 5: bài tập làm thêm"
   ]
  },
  {
   "cell_type": "code",
   "execution_count": null,
   "id": "0e0172f7",
   "metadata": {},
   "outputs": [],
   "source": [
    "# code lab 8  bài làm thêm ở đây "
   ]
  }
 ],
 "metadata": {
  "kernelspec": {
   "display_name": "Python 3",
   "language": "python",
   "name": "python3"
  },
  "language_info": {
   "codemirror_mode": {
    "name": "ipython",
    "version": 3
   },
   "file_extension": ".py",
   "mimetype": "text/x-python",
   "name": "python",
   "nbconvert_exporter": "python",
   "pygments_lexer": "ipython3",
   "version": "3.13.7"
  }
 },
 "nbformat": 4,
 "nbformat_minor": 5
}
