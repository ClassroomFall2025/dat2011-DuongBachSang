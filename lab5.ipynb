{
 "cells": [
  {
   "cell_type": "markdown",
   "id": "fdeff819",
   "metadata": {},
   "source": [
    "# Sinh Viên thực hiện Lab 5 ở Đây"
   ]
  },
  {
   "cell_type": "markdown",
   "id": "acc5d7dc",
   "metadata": {},
   "source": [
    "## Lab 5 - Bài 1"
   ]
  },
  {
   "cell_type": "code",
   "execution_count": null,
   "id": "001e0507",
   "metadata": {},
   "outputs": [],
   "source": [
    "# Code lab 5 bài 1 ở đây\n",
    "\n"
   ]
  },
  {
   "cell_type": "markdown",
   "id": "c0835310",
   "metadata": {},
   "source": [
    "## Lab 5 - Bài 2"
   ]
  },
  {
   "cell_type": "code",
   "execution_count": null,
   "id": "fa9cb39f",
   "metadata": {},
   "outputs": [
    {
     "name": "stdout",
     "output_type": "stream",
     "text": [
      "thoát chương trình\n",
      "danh sách sản phẩm đã nhập\n",
      "san pham bia co gia 23.0 được giảm giá 235.0 và thuế nhập khẩu 2.3000000000000003\n"
     ]
    }
   ],
   "source": [
    "# Code lab 5  bài 2 ở đây\n",
    "from SanPham import *\n",
    "sp1 = SanPham(\"\", \"\", \"\")\n",
    "sp2 = SanPham(\"\", \"\", \"\")\n",
    "sp1.nhap_thong_tin_sp()\n",
    "sp1.xuat_thong_tin_sp()\n",
    "sp2.nhap_thong_tin_sp()\n",
    "sp2.xuat_thong_tin_sp()\n",
    "\n",
    "\n"
   ]
  },
  {
   "cell_type": "markdown",
   "id": "0f2483fe",
   "metadata": {},
   "source": [
    "## Lab 5 - Bài 3"
   ]
  },
  {
   "cell_type": "code",
   "execution_count": null,
   "id": "7034990b",
   "metadata": {},
   "outputs": [],
   "source": [
    "# Code lab 5  bài 3 ở đây\n"
   ]
  },
  {
   "cell_type": "markdown",
   "id": "d36ea3d3",
   "metadata": {},
   "source": [
    "## Lab 5 - Bài 4"
   ]
  },
  {
   "cell_type": "code",
   "execution_count": 1,
   "id": "4c707ec1",
   "metadata": {},
   "outputs": [
    {
     "name": "stdout",
     "output_type": "stream",
     "text": [
      "----nhập sản phẩm 1--- \n",
      "---nhập sản phẩm 2---\n",
      "--thông tin sản phẩm 1--\n",
      "san pham heleken co gia 20.0 được giảm giá 10.0 và thuế nhập khẩu 2.0\n",
      "--thông tin sản phẩm 2--\n",
      "san pham bia co gia 20.0 được giảm giá 20.0 và thuế nhập khẩu 2.0\n"
     ]
    }
   ],
   "source": [
    "# code lab 5 bài 4 ở đây\n",
    "from SanPham import *\n",
    "print(\"----nhập sản phẩm 1--- \")\n",
    "ten1 = input(\"nhập tên sản phẩm 1: \")\n",
    "gia1 = float(input(\"nhập giá sản phẩm 1: \"))\n",
    "giam1 = float(input(\"nhập giảm giá sản phẩm 1: \"))\n",
    "\n",
    "\n",
    "print(\"---nhập sản phẩm 2---\")\n",
    "ten2 = input(\"nhập tên sản phẩm 2: \")\n",
    "gia2 = float(input(\"nhập giá sản phẩm 2: \"))\n",
    "giam2 = float(input(\"nhập giảm giá sản phẩm 2: \"))\n",
    "\n",
    "\n",
    "sp1 = SanPham (ten1, gia1, giam1)\n",
    "sp2 = SanPham (ten2, gia2, giam2)\n",
    "print(\"--thông tin sản phẩm 1--\")\n",
    "sp1.xuat_thong_tin_sp()\n",
    "print(\"--thông tin sản phẩm 2--\")\n",
    "sp2.xuat_thong_tin_sp()\n"
   ]
  },
  {
   "cell_type": "markdown",
   "id": "e2b41d4a",
   "metadata": {},
   "source": [
    "## Lab 5 - Bài 5: bài tập làm thêm"
   ]
  },
  {
   "cell_type": "code",
   "execution_count": 2,
   "id": "0e0172f7",
   "metadata": {},
   "outputs": [
    {
     "name": "stdout",
     "output_type": "stream",
     "text": [
      "\n",
      "    \"1\": Phep tinh co ban: Cong, tru, nhan, chia\n",
      "    \"2\": Luy thua: Tinh x^y\n",
      "    \"3\": Can bac hai: Tinh √x\n",
      "    \"4\": Ham luong giac: Sin, cos, tan\n",
      "    \"5\": Logarit: Log co so 10, ln, log co so tuy chon\n",
      "    \"6\": Giai phuong trinh bac nhat\n",
      "    \"7\": Giai phuong trinh bac 2\n",
      "    \"8\": Lich su: Luu va xem lai cac phep tinh da thuc hien\n",
      "    \"9\": Thoi gian: Hien thi thoi gian hien tai\n",
      "    \"10\": Giao dien than thien: Menu de su dung bang tieng Viet\n",
      "Thoi gian: Hien thi thoi gian hien tai\n",
      "thời gian hiện tại:  22:41:41 14 / 10 / 25\n",
      "\n",
      "    \"1\": Phep tinh co ban: Cong, tru, nhan, chia\n",
      "    \"2\": Luy thua: Tinh x^y\n",
      "    \"3\": Can bac hai: Tinh √x\n",
      "    \"4\": Ham luong giac: Sin, cos, tan\n",
      "    \"5\": Logarit: Log co so 10, ln, log co so tuy chon\n",
      "    \"6\": Giai phuong trinh bac nhat\n",
      "    \"7\": Giai phuong trinh bac 2\n",
      "    \"8\": Lich su: Luu va xem lai cac phep tinh da thuc hien\n",
      "    \"9\": Thoi gian: Hien thi thoi gian hien tai\n",
      "    \"10\": Giao dien than thien: Menu de su dung bang tieng Viet\n",
      "lựa chọn không hợp lệ\n",
      "\n",
      "    \"1\": Phep tinh co ban: Cong, tru, nhan, chia\n",
      "    \"2\": Luy thua: Tinh x^y\n",
      "    \"3\": Can bac hai: Tinh √x\n",
      "    \"4\": Ham luong giac: Sin, cos, tan\n",
      "    \"5\": Logarit: Log co so 10, ln, log co so tuy chon\n",
      "    \"6\": Giai phuong trinh bac nhat\n",
      "    \"7\": Giai phuong trinh bac 2\n",
      "    \"8\": Lich su: Luu va xem lai cac phep tinh da thuc hien\n",
      "    \"9\": Thoi gian: Hien thi thoi gian hien tai\n",
      "    \"10\": Giao dien than thien: Menu de su dung bang tieng Viet\n",
      "thoát chương trình\n"
     ]
    }
   ],
   "source": [
    "# code lab 5  bài làm thêm ở đây \n",
    "from phep_toan import *\n",
    "    \n",
    "\n",
    "def menu():\n",
    "    Menu = \"\"\"\n",
    "    \"1\": Phep tinh co ban: Cong, tru, nhan, chia\n",
    "    \"2\": Luy thua: Tinh x^y\n",
    "    \"3\": Can bac hai: Tinh √x\n",
    "    \"4\": Ham luong giac: Sin, cos, tan\n",
    "    \"5\": Logarit: Log co so 10, ln, log co so tuy chon\n",
    "    \"6\": Giai phuong trinh bac nhat\n",
    "    \"7\": Giai phuong trinh bac 2\n",
    "    \"8\": Lich su: Luu va xem lai cac phep tinh da thuc hien\n",
    "    \"9\": Thoi gian: Hien thi thoi gian hien tai\n",
    "    \"10\": Giao dien than thien: Menu de su dung bang tieng Viet\"\"\"\n",
    "\n",
    "    lich_su = []\n",
    "    while True:\n",
    "        print(Menu)\n",
    "        lua_Chon = input(\"Bạn chọn chức năng :\")\n",
    "        if lua_Chon == \"0\":\n",
    "            print(\"thoát chương trình\")\n",
    "            break\n",
    "        elif lua_Chon == \"1\":\n",
    "            tinh = PhepTinhCoBan()\n",
    "            ket_qua = tinh.thuc_hien()\n",
    "            if ket_qua: lich_su.append(ket_qua)\n",
    "        elif lua_Chon == \"2\":\n",
    "            tinh = LuyThua()\n",
    "            ket_qua = tinh.thuc_hien()\n",
    "            if ket_qua: lich_su.append(ket_qua)\n",
    "        elif lua_Chon == \"3\":\n",
    "            tinh = CanBacHai()\n",
    "            ket_qua = tinh.thuc_hien()\n",
    "            if ket_qua: lich_su.append(ket_qua)\n",
    "        elif lua_Chon == \"4\":\n",
    "            tinh = HamLuongGiac()\n",
    "            ket_qua = tinh.thuc_hien()\n",
    "            if ket_qua: lich_su.append(ket_qua)\n",
    "        elif lua_Chon == \"5\":\n",
    "            tinh = Logarit()\n",
    "            ket_qua = tinh.thuc_hien()\n",
    "            if ket_qua: lich_su.append(ket_qua)\n",
    "        elif lua_Chon == \"6\":\n",
    "            tinh = GiaiPTBacNhat()\n",
    "            ket_qua = tinh.thuc_hien()\n",
    "            if ket_qua: lich_su.append(ket_qua)\n",
    "        elif lua_Chon == \"7\":\n",
    "            tinh = GiaiPTBacHai()\n",
    "            ket_qua = tinh.thuc_hien()\n",
    "            if ket_qua: lich_su.append(ket_qua)\n",
    "        elif lua_Chon == \"8\":\n",
    "            tinh = HienThiLichSu(lich_su)\n",
    "            tinh.thuc_hien()\n",
    "        elif lua_Chon == \"9\":\n",
    "            tinh = HienThiThoiGian()\n",
    "            tinh.thuc_hien()\n",
    "\n",
    "        else:\n",
    "            print(\"lựa chọn không hợp lệ\")\n",
    "\n",
    "menu()\n"
   ]
  }
 ],
 "metadata": {
  "kernelspec": {
   "display_name": "Python 3",
   "language": "python",
   "name": "python3"
  },
  "language_info": {
   "codemirror_mode": {
    "name": "ipython",
    "version": 3
   },
   "file_extension": ".py",
   "mimetype": "text/x-python",
   "name": "python",
   "nbconvert_exporter": "python",
   "pygments_lexer": "ipython3",
   "version": "3.13.7"
  }
 },
 "nbformat": 4,
 "nbformat_minor": 5
}
