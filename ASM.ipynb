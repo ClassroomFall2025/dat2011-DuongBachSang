{
 "cells": [
  {
   "cell_type": "markdown",
   "id": "7bc52078",
   "metadata": {},
   "source": [
    "## ASM giai đoạn 1\n"
   ]
  },
  {
   "cell_type": "code",
   "execution_count": null,
   "id": "1f765bb6",
   "metadata": {},
   "outputs": [],
   "source": [
    "import ASM\n",
    "import quanlynhanvien as ql\n",
    "\n",
    "def menu():\n",
    "    while True:\n",
    "        print(\"\\n===== MENU QUẢN LÝ NHÂN VIÊN =====\")\n",
    "        print(\"1. Nhập danh sách nhân viên\")\n",
    "        print(\"2. Xuất danh sách nhân viên\")\n",
    "        print(\"3. Xóa nhân viên theo mã\")\n",
    "        print(\"4. Cập nhật thông tin nhân viên\")\n",
    "        print(\"5. Tìm kiếm nhân viên theo lương\")\n",
    "        print(\"6. Sắp xếp nhân viên theo họ tên\")\n",
    "        print(\"7. Sắp xếp nhân viên theo thu nhập\")\n",
    "        print(\"8. Xuất 5 nhân viên có thu nhập cao nhất\")\n",
    "        print(\"0. Thoát\")\n",
    "        chon = input(\"Chọn chức năng: \")\n",
    "        if chon == \"1\":\n",
    "            ql.nhap_danh_sach_nv()\n",
    "        elif chon == \"2\":\n",
    "            ql.xuat_danh_sach_nv()\n",
    "        elif chon == \"3\":\n",
    "            ql.xoa_nv()\n",
    "        elif chon == \"4\":\n",
    "            ql.cap_nhat_nv()\n",
    "        elif chon == \"5\":\n",
    "            ql.tim_kiem_nv_theo_luong()\n",
    "        elif chon == \"6\":\n",
    "            ql.sap_xep_theo_ho_ten()\n",
    "            print(\"Đã sắp xếp theo họ tên.\")\n",
    "        elif chon == \"7\":\n",
    "            ql.sap_xep_theo_thu_nhap()\n",
    "            print(\"Đã sắp xếp theo thu nhập.\")\n",
    "        elif chon == \"8\":\n",
    "            ql.top_5_thu_nhap()\n",
    "            ql.xuat_danh_sach_nv()\n",
    "        elif chon == \"0\":\n",
    "            print(\"Kết thúc chương trình.\")\n",
    "            break\n",
    "        else:\n",
    "            print(\"Chức năng không hợp lệ!\")\n",
    "\n",
    "menu()"
   ]
  }
 ],
 "metadata": {
  "kernelspec": {
   "display_name": "Python 3",
   "language": "python",
   "name": "python3"
  },
  "language_info": {
   "codemirror_mode": {
    "name": "ipython",
    "version": 3
   },
   "file_extension": ".py",
   "mimetype": "text/x-python",
   "name": "python",
   "nbconvert_exporter": "python",
   "pygments_lexer": "ipython3",
   "version": "3.13.7"
  }
 },
 "nbformat": 4,
 "nbformat_minor": 5
}
