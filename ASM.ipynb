{
 "cells": [
  {
   "cell_type": "markdown",
   "id": "7bc52078",
   "metadata": {},
   "source": [
    "## ASM giai đoạn 1\n"
   ]
  },
  {
   "cell_type": "code",
   "execution_count": null,
   "id": "1f765bb6",
   "metadata": {},
   "outputs": [
    {
     "name": "stdout",
     "output_type": "stream",
     "text": [
      "\n",
      "===== MENU QUẢN LÝ NHÂN VIÊN =====\n",
      "1. Nhập danh sách nhân viên\n",
      "2. Xuất danh sách nhân viên\n",
      "3. Xóa nhân viên theo mã\n",
      "4. Cập nhật thông tin nhân viên\n",
      "5. Tìm kiếm nhân viên theo lương\n",
      "6. Sắp xếp nhân viên theo họ tên\n",
      "7. Sắp xếp nhân viên theo thu nhập\n",
      "8. Xuất 5 nhân viên có thu nhập cao nhất\n",
      "0. Thoát\n"
     ]
    },
    {
     "ename": "AttributeError",
     "evalue": "module 'ASM' has no attribute 'nhap_danh_sach_nv'",
     "output_type": "error",
     "traceback": [
      "\u001b[31m---------------------------------------------------------------------------\u001b[39m",
      "\u001b[31mAttributeError\u001b[39m                            Traceback (most recent call last)",
      "\u001b[36mCell\u001b[39m\u001b[36m \u001b[39m\u001b[32mIn[7]\u001b[39m\u001b[32m, line 40\u001b[39m\n\u001b[32m     37\u001b[39m         \u001b[38;5;28;01melse\u001b[39;00m:\n\u001b[32m     38\u001b[39m             \u001b[38;5;28mprint\u001b[39m(\u001b[33m\"\u001b[39m\u001b[33mChức năng không hợp lệ!\u001b[39m\u001b[33m\"\u001b[39m)\n\u001b[32m---> \u001b[39m\u001b[32m40\u001b[39m \u001b[43mmenu\u001b[49m\u001b[43m(\u001b[49m\u001b[43m)\u001b[49m\n",
      "\u001b[36mCell\u001b[39m\u001b[36m \u001b[39m\u001b[32mIn[7]\u001b[39m\u001b[32m, line 16\u001b[39m, in \u001b[36mmenu\u001b[39m\u001b[34m()\u001b[39m\n\u001b[32m     14\u001b[39m chon = \u001b[38;5;28minput\u001b[39m(\u001b[33m\"\u001b[39m\u001b[33mChọn chức năng: \u001b[39m\u001b[33m\"\u001b[39m)\n\u001b[32m     15\u001b[39m \u001b[38;5;28;01mif\u001b[39;00m chon == \u001b[33m\"\u001b[39m\u001b[33m1\u001b[39m\u001b[33m\"\u001b[39m:\n\u001b[32m---> \u001b[39m\u001b[32m16\u001b[39m     \u001b[43mASM\u001b[49m\u001b[43m.\u001b[49m\u001b[43mnhap_danh_sach_nv\u001b[49m()\n\u001b[32m     17\u001b[39m \u001b[38;5;28;01melif\u001b[39;00m chon == \u001b[33m\"\u001b[39m\u001b[33m2\u001b[39m\u001b[33m\"\u001b[39m:\n\u001b[32m     18\u001b[39m     ASM.xuat_danh_sach_nv()\n",
      "\u001b[31mAttributeError\u001b[39m: module 'ASM' has no attribute 'nhap_danh_sach_nv'"
     ]
    }
   ],
   "source": [
    "import ASM\n",
    "import importlib\n",
    "importlib.reload(ASM)\n",
    "\n",
    "def menu():\n",
    "    while True:\n",
    "        print(\"\\n===== MENU QUẢN LÝ NHÂN VIÊN =====\")\n",
    "        print(\"1. Nhập danh sách nhân viên\")\n",
    "        print(\"2. Xuất danh sách nhân viên\")\n",
    "        print(\"3. Xóa nhân viên theo mã\")\n",
    "        print(\"4. Cập nhật thông tin nhân viên\")\n",
    "        print(\"5. Tìm kiếm nhân viên theo lương\")\n",
    "        print(\"6. Sắp xếp nhân viên theo họ tên\")\n",
    "        print(\"7. Sắp xếp nhân viên theo thu nhập\")\n",
    "        print(\"8. Xuất 5 nhân viên có thu nhập cao nhất\")\n",
    "        print(\"0. Thoát\")\n",
    "        chon = input(\"Chọn chức năng: \")\n",
    "        if chon == \"1\":\n",
    "            ASM.nhap_danh_sach_nv()\n",
    "        elif chon == \"2\":\n",
    "            ASM.xuat_danh_sach_nv()\n",
    "        elif chon == \"3\":\n",
    "            ASM.xoa_nv()\n",
    "        elif chon == \"4\":\n",
    "            ASM.cap_nhat_nv()\n",
    "        elif chon == \"5\":\n",
    "            ASM.tim_kiem_nv_theo_luong()\n",
    "        elif chon == \"6\":\n",
    "            ASM.sap_xep_theo_ho_ten()\n",
    "            print(\"Đã sắp xếp theo họ tên.\")\n",
    "        elif chon == \"7\":\n",
    "            ASM.sap_xep_theo_thu_nhap()\n",
    "            print(\"Đã sắp xếp theo thu nhập.\")\n",
    "        elif chon == \"8\":\n",
    "            ASM.top_5_thu_nhap()\n",
    "            ASM.xuat_danh_sach_nv()\n",
    "        elif chon == \"0\":\n",
    "            print(\"Kết thúc chương trình.\")\n",
    "            break\n",
    "        else:\n",
    "            print(\"Chức năng không hợp lệ!\")\n",
    "\n",
    "menu()"
   ]
  }
 ],
 "metadata": {
  "kernelspec": {
   "display_name": "Python 3",
   "language": "python",
   "name": "python3"
  },
  "language_info": {
   "codemirror_mode": {
    "name": "ipython",
    "version": 3
   },
   "file_extension": ".py",
   "mimetype": "text/x-python",
   "name": "python",
   "nbconvert_exporter": "python",
   "pygments_lexer": "ipython3",
   "version": "3.13.7"
  }
 },
 "nbformat": 4,
 "nbformat_minor": 5
}
